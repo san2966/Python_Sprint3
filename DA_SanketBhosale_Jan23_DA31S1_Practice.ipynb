{
 "cells": [
  {
   "cell_type": "markdown",
   "id": "1d98ade7",
   "metadata": {},
   "source": [
    "# Task-1:- Searching a list"
   ]
  },
  {
   "cell_type": "markdown",
   "id": "3d968d3b",
   "metadata": {},
   "source": [
    "-- In the list below how would you check for the presence of the data item USA "
   ]
  },
  {
   "cell_type": "code",
   "execution_count": 8,
   "id": "febcc4d3",
   "metadata": {},
   "outputs": [],
   "source": [
    "mynames=['joe','zoe','world','brad','angelina','world','zuki','tom','paris','world','magic']"
   ]
  },
  {
   "cell_type": "code",
   "execution_count": 17,
   "id": "6abddd67",
   "metadata": {},
   "outputs": [
    {
     "name": "stdout",
     "output_type": "stream",
     "text": [
      "false\n"
     ]
    }
   ],
   "source": [
    "name='usa'\n",
    "for i in mynames:\n",
    "    if name==mynames:\n",
    "        print('true')\n",
    "        break\n",
    "print('false')"
   ]
  },
  {
   "cell_type": "markdown",
   "id": "158e5171",
   "metadata": {},
   "source": [
    "# task-2:-Frequency count of each element in the list"
   ]
  },
  {
   "cell_type": "markdown",
   "id": "2fbcbb75",
   "metadata": {},
   "source": [
    "-- How would you find number of times th data item 'world' is present in the following data."
   ]
  },
  {
   "cell_type": "code",
   "execution_count": 24,
   "id": "675b12ae",
   "metadata": {},
   "outputs": [
    {
     "data": {
      "text/plain": [
       "3"
      ]
     },
     "execution_count": 24,
     "metadata": {},
     "output_type": "execute_result"
    }
   ],
   "source": [
    "mynames.count('world')"
   ]
  },
  {
   "cell_type": "markdown",
   "id": "c199713d",
   "metadata": {},
   "source": [
    "# task-3:- Looping over a list"
   ]
  },
  {
   "cell_type": "markdown",
   "id": "462a2842",
   "metadata": {},
   "source": [
    "-- Write a program to count a total number of odd and even number in the list defined."
   ]
  },
  {
   "cell_type": "code",
   "execution_count": 3,
   "id": "703726cc",
   "metadata": {},
   "outputs": [],
   "source": [
    "numlist=list(range(1,30))"
   ]
  },
  {
   "cell_type": "code",
   "execution_count": 11,
   "id": "bcb16b6f",
   "metadata": {},
   "outputs": [
    {
     "name": "stdout",
     "output_type": "stream",
     "text": [
      "even number count: 14\n",
      "odd number count: 15\n"
     ]
    }
   ],
   "source": [
    "even_count=0\n",
    "odd_count=0\n",
    "for number in numlist:\n",
    "    if number%2==0:\n",
    "        even_count+=1\n",
    "    else:\n",
    "        odd_count+=1\n",
    "print('even number count:',even_count)  \n",
    "print('odd number count:',odd_count)"
   ]
  },
  {
   "cell_type": "markdown",
   "id": "13471cbd",
   "metadata": {},
   "source": [
    "# task-4:- Appending elements to the list"
   ]
  },
  {
   "cell_type": "code",
   "execution_count": null,
   "id": "6d4991fa",
   "metadata": {},
   "outputs": [],
   "source": [
    "-- select firsr 5 even numbers from the numlist\n",
    "-- store them in a new list\n",
    "-- display the content of new list"
   ]
  },
  {
   "cell_type": "code",
   "execution_count": 8,
   "id": "9083cdc9",
   "metadata": {},
   "outputs": [
    {
     "name": "stdout",
     "output_type": "stream",
     "text": [
      "[2, 4, 6, 8, 10]\n"
     ]
    }
   ],
   "source": [
    "count=0\n",
    "l1=[]\n",
    "for number in numlist:\n",
    "    if number%2==0:\n",
    "        count=count+1\n",
    "        l1.append(number)\n",
    "    if count==5:\n",
    "        break\n",
    "print(l1)"
   ]
  },
  {
   "cell_type": "markdown",
   "id": "706d10c7",
   "metadata": {},
   "source": [
    "# task-5:-Arithmatic operations on list elements"
   ]
  },
  {
   "cell_type": "code",
   "execution_count": null,
   "id": "51821595",
   "metadata": {},
   "outputs": [],
   "source": [
    "-- Print the last two odd numbers from numlist."
   ]
  },
  {
   "cell_type": "code",
   "execution_count": 15,
   "id": "2e465397",
   "metadata": {},
   "outputs": [
    {
     "name": "stdout",
     "output_type": "stream",
     "text": [
      "[29, 27]\n"
     ]
    }
   ],
   "source": [
    "numlist=list(range(1,30))\n",
    "count=0\n",
    "newlist=[]\n",
    "for num in reversed (numlist):\n",
    "    if num%2==1:\n",
    "        count+=1\n",
    "        newlist.append(num)\n",
    "        if count==2:\n",
    "            break\n",
    "print(newlist)        \n",
    "        "
   ]
  },
  {
   "cell_type": "markdown",
   "id": "7a444de2",
   "metadata": {},
   "source": [
    "# task-6:-Appending two lists"
   ]
  },
  {
   "cell_type": "code",
   "execution_count": null,
   "id": "5f27655b",
   "metadata": {},
   "outputs": [],
   "source": [
    "-- create two empty lists X and Y.\n",
    "-- Accept 5 strings from the user and store them in list x.\n",
    "-- Accept 3 numbers from the user and store it into list Y.\n",
    "-- append the content of list y to the content of x and print the output."
   ]
  },
  {
   "cell_type": "code",
   "execution_count": 17,
   "id": "6ed7964d",
   "metadata": {},
   "outputs": [
    {
     "name": "stdout",
     "output_type": "stream",
     "text": [
      "Enter a string: a\n",
      "Enter a string: b\n",
      "Enter a string: c\n",
      "Enter a string: d\n",
      "Enter a string: e\n",
      "Enter a number: 1\n",
      "Enter a number: 2\n",
      "Enter a number: 3\n",
      "combined list x with y ['a', 'b', 'c', 'd', 'e', 1, 2, 3]\n"
     ]
    }
   ],
   "source": [
    "x=[]\n",
    "y=[]\n",
    "\n",
    "for i in range(1,6): \n",
    "    string=input(\"Enter a string: \")\n",
    "    x.append(string)\n",
    "    \n",
    "for i in range(1,4):\n",
    "    number=int(input(\"Enter a number: \"))\n",
    "    y.append(number)\n",
    "x.extend(y)\n",
    "\n",
    "print(\"combined list x with y\", x)\n",
    "\n"
   ]
  },
  {
   "cell_type": "markdown",
   "id": "aacd1815",
   "metadata": {},
   "source": [
    "# task-7:- Populating element in a list"
   ]
  },
  {
   "cell_type": "code",
   "execution_count": null,
   "id": "6b0f89ea",
   "metadata": {},
   "outputs": [],
   "source": [
    "-- Create two list defined below and print them one after one\n",
    "-- list_a=squares of all numbers from 1 to 10\n",
    "-- list_b=squares of all numbers from 30 to 40"
   ]
  },
  {
   "cell_type": "code",
   "execution_count": 19,
   "id": "381ee0b4",
   "metadata": {},
   "outputs": [
    {
     "name": "stdout",
     "output_type": "stream",
     "text": [
      "Square of the numbers are : [1, 4, 9, 16, 25, 36, 49, 64, 81, 100]\n",
      "Square of the numbers are: [900, 961, 1024, 1089, 1156, 1225, 1296, 1369, 1444, 1521, 1600]\n"
     ]
    }
   ],
   "source": [
    "list_a=[]\n",
    "list_b=[]\n",
    "\n",
    "for i in range(1,11):\n",
    "    square=i**2\n",
    "    list_a.append(square)\n",
    "print(\"Square of the numbers are :\",list_a)\n",
    "\n",
    "for i in range(30,41):\n",
    "    square=i**2\n",
    "    list_b.append(square)\n",
    "print(\"Square of the numbers are:\" ,list_b)"
   ]
  },
  {
   "cell_type": "markdown",
   "id": "1b333cb5",
   "metadata": {},
   "source": [
    "# task-8:- Iteration in python using for loop"
   ]
  },
  {
   "cell_type": "code",
   "execution_count": null,
   "id": "62e4f1a9",
   "metadata": {},
   "outputs": [],
   "source": [
    "num=int(input(\"Enter a number:\"))\n",
    "for i in range(1,11):\n",
    "    mult=num*i\n",
    "    print(num,'X',i,\"=\", mult)\n",
    "        "
   ]
  }
 ],
 "metadata": {
  "kernelspec": {
   "display_name": "Python 3 (ipykernel)",
   "language": "python",
   "name": "python3"
  },
  "language_info": {
   "codemirror_mode": {
    "name": "ipython",
    "version": 3
   },
   "file_extension": ".py",
   "mimetype": "text/x-python",
   "name": "python",
   "nbconvert_exporter": "python",
   "pygments_lexer": "ipython3",
   "version": "3.9.13"
  }
 },
 "nbformat": 4,
 "nbformat_minor": 5
}
